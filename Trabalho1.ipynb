{
  "nbformat": 4,
  "nbformat_minor": 0,
  "metadata": {
    "colab": {
      "provenance": [],
      "authorship_tag": "ABX9TyN0ckjLDkuO8FpXfgIsXDZi",
      "include_colab_link": true
    },
    "kernelspec": {
      "name": "python3",
      "display_name": "Python 3"
    },
    "language_info": {
      "name": "python"
    }
  },
  "cells": [
    {
      "cell_type": "markdown",
      "metadata": {
        "id": "view-in-github",
        "colab_type": "text"
      },
      "source": [
        "<a href=\"https://colab.research.google.com/github/Jv9545/Trabalho1_AnaliseDados/blob/main/Trabalho1.ipynb\" target=\"_parent\"><img src=\"https://colab.research.google.com/assets/colab-badge.svg\" alt=\"Open In Colab\"/></a>"
      ]
    },
    {
      "cell_type": "markdown",
      "source": [
        "**Trabalho 1 - Analise de rotatividade de Clientes Bancários**<br>\n",
        "Desenvolvido por José Vinicius e Vitor Faustino"
      ],
      "metadata": {
        "id": "3Ht2iE_fBsNp"
      }
    }
  ]
}
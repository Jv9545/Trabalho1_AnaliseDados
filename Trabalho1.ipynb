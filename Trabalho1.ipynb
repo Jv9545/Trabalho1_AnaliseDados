{
  "nbformat": 4,
  "nbformat_minor": 0,
  "metadata": {
    "colab": {
      "provenance": [],
      "authorship_tag": "ABX9TyN8Tu+6EQXBmlLEjnu+U0/T",
      "include_colab_link": true
    },
    "kernelspec": {
      "name": "python3",
      "display_name": "Python 3"
    },
    "language_info": {
      "name": "python"
    }
  },
  "cells": [
    {
      "cell_type": "markdown",
      "metadata": {
        "id": "view-in-github",
        "colab_type": "text"
      },
      "source": [
        "<a href=\"https://colab.research.google.com/github/Jv9545/Trabalho1_AnaliseDados/blob/main/Trabalho1.ipynb\" target=\"_parent\"><img src=\"https://colab.research.google.com/assets/colab-badge.svg\" alt=\"Open In Colab\"/></a>"
      ]
    },
    {
      "cell_type": "markdown",
      "source": [
        "**Trabalho 1 - Analise de rotatividade de Clientes Bancários**<br>\n",
        "**Desenvolvido por** José Vinicius e Vitor Faustino<Br>\n",
        "\n",
        "\n",
        "*   Identicar os fatores que influenciam a saída dos clientes;\n",
        "*   Comparar o perfil de clientes que saíram com os que permaneceram;\n",
        "*   Desenvolver modelos preditivos de churn;\n",
        "*   Trabalhar com variáveis categóricas e numéricas simultaneamente.\n"
      ],
      "metadata": {
        "id": "3Ht2iE_fBsNp"
      }
    },
    {
      "cell_type": "markdown",
      "source": [
        "**ETAPA 1** - Carregando a base de dados"
      ],
      "metadata": {
        "id": "LEm_6pYKKL5K"
      }
    }
  ]
}
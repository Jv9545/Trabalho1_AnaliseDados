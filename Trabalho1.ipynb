{
  "nbformat": 4,
  "nbformat_minor": 0,
  "metadata": {
    "colab": {
      "provenance": [],
      "include_colab_link": true
    },
    "kernelspec": {
      "name": "python3",
      "display_name": "Python 3"
    },
    "language_info": {
      "name": "python"
    }
  },
  "cells": [
    {
      "cell_type": "markdown",
      "metadata": {
        "id": "view-in-github",
        "colab_type": "text"
      },
      "source": [
        "<a href=\"https://colab.research.google.com/github/vitao-bolado/Trabalho1_AnaliseDados/blob/main/Trabalho1.ipynb\" target=\"_parent\"><img src=\"https://colab.research.google.com/assets/colab-badge.svg\" alt=\"Open In Colab\"/></a>"
      ]
    },
    {
      "cell_type": "markdown",
      "source": [
        "**Trabalho 1 - Analise de rotatividade de Clientes Bancários**<br>\n",
        "**Desenvolvido por** José Vinicius e Vitor Faustino<Br>\n",
        "\n",
        "\n",
        "*   Identicar os fatores que influenciam a saída dos clientes;\n",
        "*   Comparar o perfil de clientes que saíram com os que permaneceram;\n",
        "*   Desenvolver modelos preditivos de churn;\n",
        "*   Trabalhar com variáveis categóricas e numéricas simultaneamente.\n"
      ],
      "metadata": {
        "id": "3Ht2iE_fBsNp"
      }
    },
    {
      "cell_type": "code",
      "source": [
        "Vitor\n"
      ],
      "metadata": {
        "id": "Em2YMpLHHYGZ",
        "outputId": "8e42ca88-6189-4cb1-867d-6d23a6010e81",
        "colab": {
          "base_uri": "https://localhost:8080/",
          "height": 141
        }
      },
      "execution_count": 1,
      "outputs": [
        {
          "output_type": "error",
          "ename": "NameError",
          "evalue": "name 'Vitor' is not defined",
          "traceback": [
            "\u001b[0;31m---------------------------------------------------------------------------\u001b[0m",
            "\u001b[0;31mNameError\u001b[0m                                 Traceback (most recent call last)",
            "\u001b[0;32m<ipython-input-1-002d9a7365dd>\u001b[0m in \u001b[0;36m<cell line: 0>\u001b[0;34m()\u001b[0m\n\u001b[0;32m----> 1\u001b[0;31m \u001b[0mVitor\u001b[0m\u001b[0;34m\u001b[0m\u001b[0;34m\u001b[0m\u001b[0m\n\u001b[0m",
            "\u001b[0;31mNameError\u001b[0m: name 'Vitor' is not defined"
          ]
        }
      ]
    }
  ]
}
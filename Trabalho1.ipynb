{
  "nbformat": 4,
  "nbformat_minor": 0,
  "metadata": {
    "colab": {
      "provenance": [],
      "include_colab_link": true
    },
    "kernelspec": {
      "name": "python3",
      "display_name": "Python 3"
    },
    "language_info": {
      "name": "python"
    }
  },
  "cells": [
    {
      "cell_type": "markdown",
      "metadata": {
        "id": "view-in-github",
        "colab_type": "text"
      },
      "source": [
        "<a href=\"https://colab.research.google.com/github/vitao-bolado/Trabalho1_AnaliseDados/blob/main/Trabalho1.ipynb\" target=\"_parent\"><img src=\"https://colab.research.google.com/assets/colab-badge.svg\" alt=\"Open In Colab\"/></a>"
      ]
    },
    {
      "cell_type": "markdown",
      "source": [
        "**Trabalho 1 - Analise de rotatividade de Clientes Bancários**<br>\n",
        "**Desenvolvido por** José Vinicius e Vitor Faustino<Br>\n",
        "\n",
        "\n",
        "*   Identicar os fatores que influenciam a saída dos clientes;\n",
        "*   Comparar o perfil de clientes que saíram com os que permaneceram;\n",
        "*   Desenvolver modelos preditivos de churn;\n",
        "*   Trabalhar com variáveis categóricas e numéricas simultaneamente.\n"
      ],
      "metadata": {
        "id": "3Ht2iE_fBsNp"
      }
    },
    {
      "cell_type": "markdown",
      "source": [
        "**ETAPA 1** - Carregando a base de dados"
      ],
      "metadata": {
        "id": "LEm_6pYKKL5K"
      }
    },
    {
      "cell_type": "code",
      "source": [
        "# 1. Introdução\n",
        "print(\"Python é uma linguagem de programação de alto nível, interpretada e de tipagem dinâmica.\")\n",
        "\n",
        "var_1 = 2.3456\n",
        "var_2 = 12\n",
        "\n",
        "print(f\"Valor de var_1: {var_1:.2f} \\nValor de var_2: {var_2}\")"
      ],
      "metadata": {
        "id": "oAOWDPOeLhem",
        "outputId": "db6d1004-4f0b-44a1-ff49-27829c6a1642",
        "colab": {
          "base_uri": "https://localhost:8080/"
        }
      },
      "execution_count": 2,
      "outputs": [
        {
          "output_type": "stream",
          "name": "stdout",
          "text": [
            "Python é uma linguagem de programação de alto nível, interpretada e de tipagem dinâmica.\n",
            "Valor de var_1: 2.35 \n",
            "Valor de var_2: 12\n"
          ]
        }
      ]
    }
  ]
}